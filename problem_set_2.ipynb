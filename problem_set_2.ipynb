{
  "nbformat": 4,
  "nbformat_minor": 0,
  "metadata": {
    "colab": {
      "provenance": [],
      "include_colab_link": true
    },
    "kernelspec": {
      "name": "python3",
      "display_name": "Python 3"
    },
    "language_info": {
      "name": "python"
    }
  },
  "cells": [
    {
      "cell_type": "markdown",
      "metadata": {
        "id": "view-in-github",
        "colab_type": "text"
      },
      "source": [
        "<a href=\"https://colab.research.google.com/github/Hertie-School-Machine-Learning-F2022/git-github-assignment-and-fundamentals-nikpaw/blob/main/problem_set_2.ipynb\" target=\"_parent\"><img src=\"https://colab.research.google.com/assets/colab-badge.svg\" alt=\"Open In Colab\"/></a>"
      ]
    },
    {
      "cell_type": "markdown",
      "source": [
        "## Problem Set 2\n",
        "\n",
        "In this problem set you will apply different preprocessing steps, and observe how data and results change depending on the chosen process.\n",
        "\n",
        "The problem set is due on: 21.10.2022\n",
        "\n",
        "Student name: Niklas Pawelzik"
      ],
      "metadata": {
        "id": "RU6-Dn5y1ENP"
      }
    },
    {
      "cell_type": "code",
      "source": [
        "import pandas as pd\n",
        "import matplotlib.pylab as plt\n",
        "import numpy as np"
      ],
      "metadata": {
        "id": "8fbPTvHoR6yO"
      },
      "execution_count": null,
      "outputs": []
    },
    {
      "cell_type": "markdown",
      "source": [
        "First load the 'auto-mpg.csv' dataset available to you on the GitHub repo"
      ],
      "metadata": {
        "id": "VgfPDgC71NRt"
      }
    },
    {
      "cell_type": "code",
      "source": [
        "# Upload the file into the notebook and set it as a dataframe\n",
        "from google.colab import files\n",
        "uploaded = files.upload()\n"
      ],
      "metadata": {
        "id": "Rm4caUjw1aO0",
        "outputId": "469c758b-288e-40c9-990b-2865e7fd8dc0",
        "colab": {
          "base_uri": "https://localhost:8080/",
          "height": 74
        }
      },
      "execution_count": null,
      "outputs": [
        {
          "output_type": "display_data",
          "data": {
            "text/plain": [
              "<IPython.core.display.HTML object>"
            ],
            "text/html": [
              "\n",
              "     <input type=\"file\" id=\"files-9940a06e-9e7e-4e2b-8f23-cffdeaac3f4d\" name=\"files[]\" multiple disabled\n",
              "        style=\"border:none\" />\n",
              "     <output id=\"result-9940a06e-9e7e-4e2b-8f23-cffdeaac3f4d\">\n",
              "      Upload widget is only available when the cell has been executed in the\n",
              "      current browser session. Please rerun this cell to enable.\n",
              "      </output>\n",
              "      <script>// Copyright 2017 Google LLC\n",
              "//\n",
              "// Licensed under the Apache License, Version 2.0 (the \"License\");\n",
              "// you may not use this file except in compliance with the License.\n",
              "// You may obtain a copy of the License at\n",
              "//\n",
              "//      http://www.apache.org/licenses/LICENSE-2.0\n",
              "//\n",
              "// Unless required by applicable law or agreed to in writing, software\n",
              "// distributed under the License is distributed on an \"AS IS\" BASIS,\n",
              "// WITHOUT WARRANTIES OR CONDITIONS OF ANY KIND, either express or implied.\n",
              "// See the License for the specific language governing permissions and\n",
              "// limitations under the License.\n",
              "\n",
              "/**\n",
              " * @fileoverview Helpers for google.colab Python module.\n",
              " */\n",
              "(function(scope) {\n",
              "function span(text, styleAttributes = {}) {\n",
              "  const element = document.createElement('span');\n",
              "  element.textContent = text;\n",
              "  for (const key of Object.keys(styleAttributes)) {\n",
              "    element.style[key] = styleAttributes[key];\n",
              "  }\n",
              "  return element;\n",
              "}\n",
              "\n",
              "// Max number of bytes which will be uploaded at a time.\n",
              "const MAX_PAYLOAD_SIZE = 100 * 1024;\n",
              "\n",
              "function _uploadFiles(inputId, outputId) {\n",
              "  const steps = uploadFilesStep(inputId, outputId);\n",
              "  const outputElement = document.getElementById(outputId);\n",
              "  // Cache steps on the outputElement to make it available for the next call\n",
              "  // to uploadFilesContinue from Python.\n",
              "  outputElement.steps = steps;\n",
              "\n",
              "  return _uploadFilesContinue(outputId);\n",
              "}\n",
              "\n",
              "// This is roughly an async generator (not supported in the browser yet),\n",
              "// where there are multiple asynchronous steps and the Python side is going\n",
              "// to poll for completion of each step.\n",
              "// This uses a Promise to block the python side on completion of each step,\n",
              "// then passes the result of the previous step as the input to the next step.\n",
              "function _uploadFilesContinue(outputId) {\n",
              "  const outputElement = document.getElementById(outputId);\n",
              "  const steps = outputElement.steps;\n",
              "\n",
              "  const next = steps.next(outputElement.lastPromiseValue);\n",
              "  return Promise.resolve(next.value.promise).then((value) => {\n",
              "    // Cache the last promise value to make it available to the next\n",
              "    // step of the generator.\n",
              "    outputElement.lastPromiseValue = value;\n",
              "    return next.value.response;\n",
              "  });\n",
              "}\n",
              "\n",
              "/**\n",
              " * Generator function which is called between each async step of the upload\n",
              " * process.\n",
              " * @param {string} inputId Element ID of the input file picker element.\n",
              " * @param {string} outputId Element ID of the output display.\n",
              " * @return {!Iterable<!Object>} Iterable of next steps.\n",
              " */\n",
              "function* uploadFilesStep(inputId, outputId) {\n",
              "  const inputElement = document.getElementById(inputId);\n",
              "  inputElement.disabled = false;\n",
              "\n",
              "  const outputElement = document.getElementById(outputId);\n",
              "  outputElement.innerHTML = '';\n",
              "\n",
              "  const pickedPromise = new Promise((resolve) => {\n",
              "    inputElement.addEventListener('change', (e) => {\n",
              "      resolve(e.target.files);\n",
              "    });\n",
              "  });\n",
              "\n",
              "  const cancel = document.createElement('button');\n",
              "  inputElement.parentElement.appendChild(cancel);\n",
              "  cancel.textContent = 'Cancel upload';\n",
              "  const cancelPromise = new Promise((resolve) => {\n",
              "    cancel.onclick = () => {\n",
              "      resolve(null);\n",
              "    };\n",
              "  });\n",
              "\n",
              "  // Wait for the user to pick the files.\n",
              "  const files = yield {\n",
              "    promise: Promise.race([pickedPromise, cancelPromise]),\n",
              "    response: {\n",
              "      action: 'starting',\n",
              "    }\n",
              "  };\n",
              "\n",
              "  cancel.remove();\n",
              "\n",
              "  // Disable the input element since further picks are not allowed.\n",
              "  inputElement.disabled = true;\n",
              "\n",
              "  if (!files) {\n",
              "    return {\n",
              "      response: {\n",
              "        action: 'complete',\n",
              "      }\n",
              "    };\n",
              "  }\n",
              "\n",
              "  for (const file of files) {\n",
              "    const li = document.createElement('li');\n",
              "    li.append(span(file.name, {fontWeight: 'bold'}));\n",
              "    li.append(span(\n",
              "        `(${file.type || 'n/a'}) - ${file.size} bytes, ` +\n",
              "        `last modified: ${\n",
              "            file.lastModifiedDate ? file.lastModifiedDate.toLocaleDateString() :\n",
              "                                    'n/a'} - `));\n",
              "    const percent = span('0% done');\n",
              "    li.appendChild(percent);\n",
              "\n",
              "    outputElement.appendChild(li);\n",
              "\n",
              "    const fileDataPromise = new Promise((resolve) => {\n",
              "      const reader = new FileReader();\n",
              "      reader.onload = (e) => {\n",
              "        resolve(e.target.result);\n",
              "      };\n",
              "      reader.readAsArrayBuffer(file);\n",
              "    });\n",
              "    // Wait for the data to be ready.\n",
              "    let fileData = yield {\n",
              "      promise: fileDataPromise,\n",
              "      response: {\n",
              "        action: 'continue',\n",
              "      }\n",
              "    };\n",
              "\n",
              "    // Use a chunked sending to avoid message size limits. See b/62115660.\n",
              "    let position = 0;\n",
              "    do {\n",
              "      const length = Math.min(fileData.byteLength - position, MAX_PAYLOAD_SIZE);\n",
              "      const chunk = new Uint8Array(fileData, position, length);\n",
              "      position += length;\n",
              "\n",
              "      const base64 = btoa(String.fromCharCode.apply(null, chunk));\n",
              "      yield {\n",
              "        response: {\n",
              "          action: 'append',\n",
              "          file: file.name,\n",
              "          data: base64,\n",
              "        },\n",
              "      };\n",
              "\n",
              "      let percentDone = fileData.byteLength === 0 ?\n",
              "          100 :\n",
              "          Math.round((position / fileData.byteLength) * 100);\n",
              "      percent.textContent = `${percentDone}% done`;\n",
              "\n",
              "    } while (position < fileData.byteLength);\n",
              "  }\n",
              "\n",
              "  // All done.\n",
              "  yield {\n",
              "    response: {\n",
              "      action: 'complete',\n",
              "    }\n",
              "  };\n",
              "}\n",
              "\n",
              "scope.google = scope.google || {};\n",
              "scope.google.colab = scope.google.colab || {};\n",
              "scope.google.colab._files = {\n",
              "  _uploadFiles,\n",
              "  _uploadFilesContinue,\n",
              "};\n",
              "})(self);\n",
              "</script> "
            ]
          },
          "metadata": {}
        },
        {
          "output_type": "stream",
          "name": "stdout",
          "text": [
            "Saving auto-mpg.csv to auto-mpg.csv\n"
          ]
        }
      ]
    },
    {
      "cell_type": "code",
      "source": [
        "# Inspect the first five samples\n",
        "import io\n",
        "car_data = pd.read_csv(io.BytesIO(uploaded['auto-mpg.csv']))\n",
        "\n",
        "car_data.head()"
      ],
      "metadata": {
        "id": "QZR3xufp1eRd",
        "outputId": "d01448f4-530e-4c5f-db44-36b52fceee5c",
        "colab": {
          "base_uri": "https://localhost:8080/",
          "height": 206
        }
      },
      "execution_count": null,
      "outputs": [
        {
          "output_type": "execute_result",
          "data": {
            "text/plain": [
              "    mpg  cylinders  displacement horsepower  weight  acceleration  model year  \\\n",
              "0  18.0          8         307.0        130    3504          12.0          70   \n",
              "1  15.0          8         350.0        165    3693          11.5          70   \n",
              "2  18.0          8         318.0        150    3436          11.0          70   \n",
              "3  16.0          8         304.0        150    3433          12.0          70   \n",
              "4  17.0          8         302.0        140    3449          10.5          70   \n",
              "\n",
              "   origin                   car name  \n",
              "0       1  chevrolet chevelle malibu  \n",
              "1       1          buick skylark 320  \n",
              "2       1         plymouth satellite  \n",
              "3       1              amc rebel sst  \n",
              "4       1                ford torino  "
            ],
            "text/html": [
              "\n",
              "  <div id=\"df-e4e5f761-329f-49cc-9b34-34a6b184d666\">\n",
              "    <div class=\"colab-df-container\">\n",
              "      <div>\n",
              "<style scoped>\n",
              "    .dataframe tbody tr th:only-of-type {\n",
              "        vertical-align: middle;\n",
              "    }\n",
              "\n",
              "    .dataframe tbody tr th {\n",
              "        vertical-align: top;\n",
              "    }\n",
              "\n",
              "    .dataframe thead th {\n",
              "        text-align: right;\n",
              "    }\n",
              "</style>\n",
              "<table border=\"1\" class=\"dataframe\">\n",
              "  <thead>\n",
              "    <tr style=\"text-align: right;\">\n",
              "      <th></th>\n",
              "      <th>mpg</th>\n",
              "      <th>cylinders</th>\n",
              "      <th>displacement</th>\n",
              "      <th>horsepower</th>\n",
              "      <th>weight</th>\n",
              "      <th>acceleration</th>\n",
              "      <th>model year</th>\n",
              "      <th>origin</th>\n",
              "      <th>car name</th>\n",
              "    </tr>\n",
              "  </thead>\n",
              "  <tbody>\n",
              "    <tr>\n",
              "      <th>0</th>\n",
              "      <td>18.0</td>\n",
              "      <td>8</td>\n",
              "      <td>307.0</td>\n",
              "      <td>130</td>\n",
              "      <td>3504</td>\n",
              "      <td>12.0</td>\n",
              "      <td>70</td>\n",
              "      <td>1</td>\n",
              "      <td>chevrolet chevelle malibu</td>\n",
              "    </tr>\n",
              "    <tr>\n",
              "      <th>1</th>\n",
              "      <td>15.0</td>\n",
              "      <td>8</td>\n",
              "      <td>350.0</td>\n",
              "      <td>165</td>\n",
              "      <td>3693</td>\n",
              "      <td>11.5</td>\n",
              "      <td>70</td>\n",
              "      <td>1</td>\n",
              "      <td>buick skylark 320</td>\n",
              "    </tr>\n",
              "    <tr>\n",
              "      <th>2</th>\n",
              "      <td>18.0</td>\n",
              "      <td>8</td>\n",
              "      <td>318.0</td>\n",
              "      <td>150</td>\n",
              "      <td>3436</td>\n",
              "      <td>11.0</td>\n",
              "      <td>70</td>\n",
              "      <td>1</td>\n",
              "      <td>plymouth satellite</td>\n",
              "    </tr>\n",
              "    <tr>\n",
              "      <th>3</th>\n",
              "      <td>16.0</td>\n",
              "      <td>8</td>\n",
              "      <td>304.0</td>\n",
              "      <td>150</td>\n",
              "      <td>3433</td>\n",
              "      <td>12.0</td>\n",
              "      <td>70</td>\n",
              "      <td>1</td>\n",
              "      <td>amc rebel sst</td>\n",
              "    </tr>\n",
              "    <tr>\n",
              "      <th>4</th>\n",
              "      <td>17.0</td>\n",
              "      <td>8</td>\n",
              "      <td>302.0</td>\n",
              "      <td>140</td>\n",
              "      <td>3449</td>\n",
              "      <td>10.5</td>\n",
              "      <td>70</td>\n",
              "      <td>1</td>\n",
              "      <td>ford torino</td>\n",
              "    </tr>\n",
              "  </tbody>\n",
              "</table>\n",
              "</div>\n",
              "      <button class=\"colab-df-convert\" onclick=\"convertToInteractive('df-e4e5f761-329f-49cc-9b34-34a6b184d666')\"\n",
              "              title=\"Convert this dataframe to an interactive table.\"\n",
              "              style=\"display:none;\">\n",
              "        \n",
              "  <svg xmlns=\"http://www.w3.org/2000/svg\" height=\"24px\"viewBox=\"0 0 24 24\"\n",
              "       width=\"24px\">\n",
              "    <path d=\"M0 0h24v24H0V0z\" fill=\"none\"/>\n",
              "    <path d=\"M18.56 5.44l.94 2.06.94-2.06 2.06-.94-2.06-.94-.94-2.06-.94 2.06-2.06.94zm-11 1L8.5 8.5l.94-2.06 2.06-.94-2.06-.94L8.5 2.5l-.94 2.06-2.06.94zm10 10l.94 2.06.94-2.06 2.06-.94-2.06-.94-.94-2.06-.94 2.06-2.06.94z\"/><path d=\"M17.41 7.96l-1.37-1.37c-.4-.4-.92-.59-1.43-.59-.52 0-1.04.2-1.43.59L10.3 9.45l-7.72 7.72c-.78.78-.78 2.05 0 2.83L4 21.41c.39.39.9.59 1.41.59.51 0 1.02-.2 1.41-.59l7.78-7.78 2.81-2.81c.8-.78.8-2.07 0-2.86zM5.41 20L4 18.59l7.72-7.72 1.47 1.35L5.41 20z\"/>\n",
              "  </svg>\n",
              "      </button>\n",
              "      \n",
              "  <style>\n",
              "    .colab-df-container {\n",
              "      display:flex;\n",
              "      flex-wrap:wrap;\n",
              "      gap: 12px;\n",
              "    }\n",
              "\n",
              "    .colab-df-convert {\n",
              "      background-color: #E8F0FE;\n",
              "      border: none;\n",
              "      border-radius: 50%;\n",
              "      cursor: pointer;\n",
              "      display: none;\n",
              "      fill: #1967D2;\n",
              "      height: 32px;\n",
              "      padding: 0 0 0 0;\n",
              "      width: 32px;\n",
              "    }\n",
              "\n",
              "    .colab-df-convert:hover {\n",
              "      background-color: #E2EBFA;\n",
              "      box-shadow: 0px 1px 2px rgba(60, 64, 67, 0.3), 0px 1px 3px 1px rgba(60, 64, 67, 0.15);\n",
              "      fill: #174EA6;\n",
              "    }\n",
              "\n",
              "    [theme=dark] .colab-df-convert {\n",
              "      background-color: #3B4455;\n",
              "      fill: #D2E3FC;\n",
              "    }\n",
              "\n",
              "    [theme=dark] .colab-df-convert:hover {\n",
              "      background-color: #434B5C;\n",
              "      box-shadow: 0px 1px 3px 1px rgba(0, 0, 0, 0.15);\n",
              "      filter: drop-shadow(0px 1px 2px rgba(0, 0, 0, 0.3));\n",
              "      fill: #FFFFFF;\n",
              "    }\n",
              "  </style>\n",
              "\n",
              "      <script>\n",
              "        const buttonEl =\n",
              "          document.querySelector('#df-e4e5f761-329f-49cc-9b34-34a6b184d666 button.colab-df-convert');\n",
              "        buttonEl.style.display =\n",
              "          google.colab.kernel.accessAllowed ? 'block' : 'none';\n",
              "\n",
              "        async function convertToInteractive(key) {\n",
              "          const element = document.querySelector('#df-e4e5f761-329f-49cc-9b34-34a6b184d666');\n",
              "          const dataTable =\n",
              "            await google.colab.kernel.invokeFunction('convertToInteractive',\n",
              "                                                     [key], {});\n",
              "          if (!dataTable) return;\n",
              "\n",
              "          const docLinkHtml = 'Like what you see? Visit the ' +\n",
              "            '<a target=\"_blank\" href=https://colab.research.google.com/notebooks/data_table.ipynb>data table notebook</a>'\n",
              "            + ' to learn more about interactive tables.';\n",
              "          element.innerHTML = '';\n",
              "          dataTable['output_type'] = 'display_data';\n",
              "          await google.colab.output.renderOutput(dataTable, element);\n",
              "          const docLink = document.createElement('div');\n",
              "          docLink.innerHTML = docLinkHtml;\n",
              "          element.appendChild(docLink);\n",
              "        }\n",
              "      </script>\n",
              "    </div>\n",
              "  </div>\n",
              "  "
            ]
          },
          "metadata": {},
          "execution_count": 3
        }
      ]
    },
    {
      "cell_type": "markdown",
      "source": [
        "**Question 1**: What is the car name of sample index 3?\n",
        "\n",
        "(Hint: Remember that Python index begins at 0)\n",
        "\n",
        "**Answer**: \n",
        "*The car name of sample index 3 is 'amc rebel sst'.*"
      ],
      "metadata": {
        "id": "KaxQzreR1hHg"
      }
    },
    {
      "cell_type": "code",
      "source": [
        "print(car_data[3:4])"
      ],
      "metadata": {
        "id": "MBUnQucoUrE4",
        "outputId": "dce289ab-0ea1-4737-ed36-9d18fdf1a9d8",
        "colab": {
          "base_uri": "https://localhost:8080/"
        }
      },
      "execution_count": null,
      "outputs": [
        {
          "output_type": "stream",
          "name": "stdout",
          "text": [
            "    mpg  cylinders  displacement horsepower  weight  acceleration  model year  \\\n",
            "3  16.0          8         304.0        150    3433          12.0          70   \n",
            "\n",
            "   origin       car name  \n",
            "3       1  amc rebel sst  \n"
          ]
        }
      ]
    },
    {
      "cell_type": "code",
      "source": [
        "# Observe the data types of each variable\n",
        "print(car_data.info())"
      ],
      "metadata": {
        "id": "fDHvVqcv1nLv",
        "outputId": "9ea0d0d7-0183-4ebd-93b7-98d35d30c30f",
        "colab": {
          "base_uri": "https://localhost:8080/"
        }
      },
      "execution_count": null,
      "outputs": [
        {
          "output_type": "stream",
          "name": "stdout",
          "text": [
            "<class 'pandas.core.frame.DataFrame'>\n",
            "RangeIndex: 398 entries, 0 to 397\n",
            "Data columns (total 9 columns):\n",
            " #   Column        Non-Null Count  Dtype  \n",
            "---  ------        --------------  -----  \n",
            " 0   mpg           398 non-null    float64\n",
            " 1   cylinders     398 non-null    int64  \n",
            " 2   displacement  398 non-null    float64\n",
            " 3   horsepower    398 non-null    object \n",
            " 4   weight        398 non-null    int64  \n",
            " 5   acceleration  398 non-null    float64\n",
            " 6   model year    398 non-null    int64  \n",
            " 7   origin        398 non-null    int64  \n",
            " 8   car name      398 non-null    object \n",
            "dtypes: float64(3), int64(4), object(2)\n",
            "memory usage: 28.1+ KB\n",
            "None\n"
          ]
        }
      ]
    },
    {
      "cell_type": "markdown",
      "source": [
        "Question 2: What are the variables that are saved as categorical in the data frame?\n",
        "\n",
        "**Answer**: \n",
        "*None of the variables are saved as categorical in the pandas data frame. The variables \"car name\" and \"horsepower\" are saved as objects, which is the python version of categorical variables. Conceptionally speaking, they are categorical variables, even though technically they are not saved as \"categorical\".*"
      ],
      "metadata": {
        "id": "Fwp2tuZH1Z4M"
      }
    },
    {
      "cell_type": "code",
      "source": [
        "# Set as mpg, displacement and weight as X\n",
        "\n",
        "X =  car_data[['mpg', 'displacement', 'weight']]\n",
        "\n",
        "# Set acceleration as the target \n",
        "\n",
        "y = car_data['acceleration']\n",
        "\n",
        "X"
      ],
      "metadata": {
        "id": "qiRYTcu11ue7",
        "outputId": "f25d1307-24c0-43ed-c3f6-05603f5c573b",
        "colab": {
          "base_uri": "https://localhost:8080/",
          "height": 424
        }
      },
      "execution_count": null,
      "outputs": [
        {
          "output_type": "execute_result",
          "data": {
            "text/plain": [
              "      mpg  displacement  weight\n",
              "0    18.0         307.0    3504\n",
              "1    15.0         350.0    3693\n",
              "2    18.0         318.0    3436\n",
              "3    16.0         304.0    3433\n",
              "4    17.0         302.0    3449\n",
              "..    ...           ...     ...\n",
              "393  27.0         140.0    2790\n",
              "394  44.0          97.0    2130\n",
              "395  32.0         135.0    2295\n",
              "396  28.0         120.0    2625\n",
              "397  31.0         119.0    2720\n",
              "\n",
              "[398 rows x 3 columns]"
            ],
            "text/html": [
              "\n",
              "  <div id=\"df-e5096fd3-0dc2-47b4-9b66-b9e1f33d0293\">\n",
              "    <div class=\"colab-df-container\">\n",
              "      <div>\n",
              "<style scoped>\n",
              "    .dataframe tbody tr th:only-of-type {\n",
              "        vertical-align: middle;\n",
              "    }\n",
              "\n",
              "    .dataframe tbody tr th {\n",
              "        vertical-align: top;\n",
              "    }\n",
              "\n",
              "    .dataframe thead th {\n",
              "        text-align: right;\n",
              "    }\n",
              "</style>\n",
              "<table border=\"1\" class=\"dataframe\">\n",
              "  <thead>\n",
              "    <tr style=\"text-align: right;\">\n",
              "      <th></th>\n",
              "      <th>mpg</th>\n",
              "      <th>displacement</th>\n",
              "      <th>weight</th>\n",
              "    </tr>\n",
              "  </thead>\n",
              "  <tbody>\n",
              "    <tr>\n",
              "      <th>0</th>\n",
              "      <td>18.0</td>\n",
              "      <td>307.0</td>\n",
              "      <td>3504</td>\n",
              "    </tr>\n",
              "    <tr>\n",
              "      <th>1</th>\n",
              "      <td>15.0</td>\n",
              "      <td>350.0</td>\n",
              "      <td>3693</td>\n",
              "    </tr>\n",
              "    <tr>\n",
              "      <th>2</th>\n",
              "      <td>18.0</td>\n",
              "      <td>318.0</td>\n",
              "      <td>3436</td>\n",
              "    </tr>\n",
              "    <tr>\n",
              "      <th>3</th>\n",
              "      <td>16.0</td>\n",
              "      <td>304.0</td>\n",
              "      <td>3433</td>\n",
              "    </tr>\n",
              "    <tr>\n",
              "      <th>4</th>\n",
              "      <td>17.0</td>\n",
              "      <td>302.0</td>\n",
              "      <td>3449</td>\n",
              "    </tr>\n",
              "    <tr>\n",
              "      <th>...</th>\n",
              "      <td>...</td>\n",
              "      <td>...</td>\n",
              "      <td>...</td>\n",
              "    </tr>\n",
              "    <tr>\n",
              "      <th>393</th>\n",
              "      <td>27.0</td>\n",
              "      <td>140.0</td>\n",
              "      <td>2790</td>\n",
              "    </tr>\n",
              "    <tr>\n",
              "      <th>394</th>\n",
              "      <td>44.0</td>\n",
              "      <td>97.0</td>\n",
              "      <td>2130</td>\n",
              "    </tr>\n",
              "    <tr>\n",
              "      <th>395</th>\n",
              "      <td>32.0</td>\n",
              "      <td>135.0</td>\n",
              "      <td>2295</td>\n",
              "    </tr>\n",
              "    <tr>\n",
              "      <th>396</th>\n",
              "      <td>28.0</td>\n",
              "      <td>120.0</td>\n",
              "      <td>2625</td>\n",
              "    </tr>\n",
              "    <tr>\n",
              "      <th>397</th>\n",
              "      <td>31.0</td>\n",
              "      <td>119.0</td>\n",
              "      <td>2720</td>\n",
              "    </tr>\n",
              "  </tbody>\n",
              "</table>\n",
              "<p>398 rows × 3 columns</p>\n",
              "</div>\n",
              "      <button class=\"colab-df-convert\" onclick=\"convertToInteractive('df-e5096fd3-0dc2-47b4-9b66-b9e1f33d0293')\"\n",
              "              title=\"Convert this dataframe to an interactive table.\"\n",
              "              style=\"display:none;\">\n",
              "        \n",
              "  <svg xmlns=\"http://www.w3.org/2000/svg\" height=\"24px\"viewBox=\"0 0 24 24\"\n",
              "       width=\"24px\">\n",
              "    <path d=\"M0 0h24v24H0V0z\" fill=\"none\"/>\n",
              "    <path d=\"M18.56 5.44l.94 2.06.94-2.06 2.06-.94-2.06-.94-.94-2.06-.94 2.06-2.06.94zm-11 1L8.5 8.5l.94-2.06 2.06-.94-2.06-.94L8.5 2.5l-.94 2.06-2.06.94zm10 10l.94 2.06.94-2.06 2.06-.94-2.06-.94-.94-2.06-.94 2.06-2.06.94z\"/><path d=\"M17.41 7.96l-1.37-1.37c-.4-.4-.92-.59-1.43-.59-.52 0-1.04.2-1.43.59L10.3 9.45l-7.72 7.72c-.78.78-.78 2.05 0 2.83L4 21.41c.39.39.9.59 1.41.59.51 0 1.02-.2 1.41-.59l7.78-7.78 2.81-2.81c.8-.78.8-2.07 0-2.86zM5.41 20L4 18.59l7.72-7.72 1.47 1.35L5.41 20z\"/>\n",
              "  </svg>\n",
              "      </button>\n",
              "      \n",
              "  <style>\n",
              "    .colab-df-container {\n",
              "      display:flex;\n",
              "      flex-wrap:wrap;\n",
              "      gap: 12px;\n",
              "    }\n",
              "\n",
              "    .colab-df-convert {\n",
              "      background-color: #E8F0FE;\n",
              "      border: none;\n",
              "      border-radius: 50%;\n",
              "      cursor: pointer;\n",
              "      display: none;\n",
              "      fill: #1967D2;\n",
              "      height: 32px;\n",
              "      padding: 0 0 0 0;\n",
              "      width: 32px;\n",
              "    }\n",
              "\n",
              "    .colab-df-convert:hover {\n",
              "      background-color: #E2EBFA;\n",
              "      box-shadow: 0px 1px 2px rgba(60, 64, 67, 0.3), 0px 1px 3px 1px rgba(60, 64, 67, 0.15);\n",
              "      fill: #174EA6;\n",
              "    }\n",
              "\n",
              "    [theme=dark] .colab-df-convert {\n",
              "      background-color: #3B4455;\n",
              "      fill: #D2E3FC;\n",
              "    }\n",
              "\n",
              "    [theme=dark] .colab-df-convert:hover {\n",
              "      background-color: #434B5C;\n",
              "      box-shadow: 0px 1px 3px 1px rgba(0, 0, 0, 0.15);\n",
              "      filter: drop-shadow(0px 1px 2px rgba(0, 0, 0, 0.3));\n",
              "      fill: #FFFFFF;\n",
              "    }\n",
              "  </style>\n",
              "\n",
              "      <script>\n",
              "        const buttonEl =\n",
              "          document.querySelector('#df-e5096fd3-0dc2-47b4-9b66-b9e1f33d0293 button.colab-df-convert');\n",
              "        buttonEl.style.display =\n",
              "          google.colab.kernel.accessAllowed ? 'block' : 'none';\n",
              "\n",
              "        async function convertToInteractive(key) {\n",
              "          const element = document.querySelector('#df-e5096fd3-0dc2-47b4-9b66-b9e1f33d0293');\n",
              "          const dataTable =\n",
              "            await google.colab.kernel.invokeFunction('convertToInteractive',\n",
              "                                                     [key], {});\n",
              "          if (!dataTable) return;\n",
              "\n",
              "          const docLinkHtml = 'Like what you see? Visit the ' +\n",
              "            '<a target=\"_blank\" href=https://colab.research.google.com/notebooks/data_table.ipynb>data table notebook</a>'\n",
              "            + ' to learn more about interactive tables.';\n",
              "          element.innerHTML = '';\n",
              "          dataTable['output_type'] = 'display_data';\n",
              "          await google.colab.output.renderOutput(dataTable, element);\n",
              "          const docLink = document.createElement('div');\n",
              "          docLink.innerHTML = docLinkHtml;\n",
              "          element.appendChild(docLink);\n",
              "        }\n",
              "      </script>\n",
              "    </div>\n",
              "  </div>\n",
              "  "
            ]
          },
          "metadata": {},
          "execution_count": 6
        }
      ]
    },
    {
      "cell_type": "code",
      "source": [
        "# Import the preprocesser MinMaxScaler\n",
        "\n",
        "from sklearn.preprocessing import MinMaxScaler\n",
        "\n",
        "# Set MinMaxScaler as the scaler and transform X\n",
        "\n",
        "X_transformed = MinMaxScaler().fit_transform(X)\n",
        "plt.scatter(X_transformed[:, 0], X_transformed[:, 1], c=y);\n",
        "\n",
        "# Inspect the array of the transformed values. \n",
        "print(X_transformed)"
      ],
      "metadata": {
        "id": "MbZeAa1u1zSQ",
        "outputId": "11a6806b-2a38-49a0-d458-ba35aae3e8bf",
        "colab": {
          "base_uri": "https://localhost:8080/",
          "height": 386
        }
      },
      "execution_count": null,
      "outputs": [
        {
          "output_type": "stream",
          "name": "stdout",
          "text": [
            "[[0.2393617  0.61757106 0.5361497 ]\n",
            " [0.15957447 0.72868217 0.58973632]\n",
            " [0.2393617  0.64599483 0.51686986]\n",
            " ...\n",
            " [0.61170213 0.17312661 0.19336547]\n",
            " [0.50531915 0.13436693 0.2869294 ]\n",
            " [0.58510638 0.13178295 0.31386447]]\n"
          ]
        },
        {
          "output_type": "display_data",
          "data": {
            "text/plain": [
              "<Figure size 432x288 with 1 Axes>"
            ],
            "image/png": "[encoded data removed]"
          },
          "metadata": {
            "needs_background": "light"
          }
        }
      ]
    },
    {
      "cell_type": "markdown",
      "source": [
        "Question 3: What are the values of the first sample of X (d.p. 2)\n",
        "\n",
        "(Hint: The first sample of X is the first row or the first value of each column)\n",
        "\n",
        "\n",
        "**Answer**: \n",
        "*The values of the first sample of X are [0.2393617,  0.61757106, 0.5361497].*"
      ],
      "metadata": {
        "id": "DIUZTXe513OT"
      }
    },
    {
      "cell_type": "code",
      "source": [
        "# Import the preprocesser StandardScaler\n",
        "from sklearn.preprocessing import StandardScaler\n",
        "\n",
        "# Use StandardScaler to transform X\n",
        "X_transformed_2 = StandardScaler().fit_transform(X)\n",
        "plt.scatter(X_transformed_2[:, 0], X_transformed_2[:, 1], c=y);\n",
        "\n",
        "# Inspect the array of the transformed values. \n",
        "print(X_transformed_2)"
      ],
      "metadata": {
        "id": "T7ehkO5V1-Cx",
        "outputId": "b89bc491-2191-4407-8cf9-a24c6e5b42e1",
        "colab": {
          "base_uri": "https://localhost:8080/",
          "height": 386
        }
      },
      "execution_count": null,
      "outputs": [
        {
          "output_type": "stream",
          "name": "stdout",
          "text": [
            "[[-0.7064387   1.0906037   0.63086987]\n",
            " [-1.09075062  1.5035143   0.85433297]\n",
            " [-0.7064387   1.19623199  0.55047045]\n",
            " ...\n",
            " [ 1.08701694 -0.56103873 -0.79858454]\n",
            " [ 0.57460104 -0.70507731 -0.40841088]\n",
            " [ 0.95891297 -0.71467988 -0.29608816]]\n"
          ]
        },
        {
          "output_type": "display_data",
          "data": {
            "text/plain": [
              "<Figure size 432x288 with 1 Axes>"
            ],
            "image/png": "[encoded data removed]"
          },
          "metadata": {
            "needs_background": "light"
          }
        }
      ]
    },
    {
      "cell_type": "markdown",
      "source": [
        "Question 4: What are the values of the first sample of X? (d.p. 2)\n",
        "\n",
        "(Hint: The first sample of X is the first row or the first value of each column)\n",
        "\n",
        "\n",
        "**Answer**: \n",
        "*The values of the first sample of X are [-0.7064387,   1.0906037,   0.63086987].*"
      ],
      "metadata": {
        "id": "bRRXLBd-2Kvj"
      }
    },
    {
      "cell_type": "markdown",
      "source": [
        "Quesiton 5: which of the following statements is true?\n",
        "\n",
        "*   MinMax Scaler is based on the sample mean\n",
        "*   StandardScaler can only be between 0 and 1\n",
        "*   MinMaxScaler can only be between 0 and 1\n",
        "*   Standard Scaler can only be used when sample values are between 0 and 1\n",
        "\n",
        "\n",
        "**Answer**: \n",
        "*MinMaxScaler can only be between 0 and 1.*"
      ],
      "metadata": {
        "id": "ybSivuA42cme"
      }
    },
    {
      "cell_type": "code",
      "source": [
        "# Now set traing and testing sets with a test size of 0.20 and random state = 2\n",
        "from sklearn.model_selection import train_test_split\n",
        "\n",
        "X_train, X_test, y_train, y_test = train_test_split(X,y,test_size = 0.20, random_state = 2)\n",
        "\n",
        "X_test"
      ],
      "metadata": {
        "id": "ZkIu_zEV2ZEX",
        "outputId": "a349cca7-5a98-45ba-e011-9101f4be0158",
        "colab": {
          "base_uri": "https://localhost:8080/",
          "height": 424
        }
      },
      "execution_count": null,
      "outputs": [
        {
          "output_type": "execute_result",
          "data": {
            "text/plain": [
              "      mpg  displacement  weight\n",
              "94   13.0         440.0    4735\n",
              "32   25.0          98.0    2046\n",
              "279  29.5          98.0    2135\n",
              "178  23.0         120.0    2957\n",
              "354  34.5         100.0    2320\n",
              "..    ...           ...     ...\n",
              "298  23.0         350.0    3900\n",
              "222  17.0         260.0    4060\n",
              "65   14.0         351.0    4129\n",
              "261  18.1         258.0    3410\n",
              "342  30.0         135.0    2385\n",
              "\n",
              "[80 rows x 3 columns]"
            ],
            "text/html": [
              "\n",
              "  <div id=\"df-66f3facb-22d4-4750-a9ee-37a3ad424951\">\n",
              "    <div class=\"colab-df-container\">\n",
              "      <div>\n",
              "<style scoped>\n",
              "    .dataframe tbody tr th:only-of-type {\n",
              "        vertical-align: middle;\n",
              "    }\n",
              "\n",
              "    .dataframe tbody tr th {\n",
              "        vertical-align: top;\n",
              "    }\n",
              "\n",
              "    .dataframe thead th {\n",
              "        text-align: right;\n",
              "    }\n",
              "</style>\n",
              "<table border=\"1\" class=\"dataframe\">\n",
              "  <thead>\n",
              "    <tr style=\"text-align: right;\">\n",
              "      <th></th>\n",
              "      <th>mpg</th>\n",
              "      <th>displacement</th>\n",
              "      <th>weight</th>\n",
              "    </tr>\n",
              "  </thead>\n",
              "  <tbody>\n",
              "    <tr>\n",
              "      <th>94</th>\n",
              "      <td>13.0</td>\n",
              "      <td>440.0</td>\n",
              "      <td>4735</td>\n",
              "    </tr>\n",
              "    <tr>\n",
              "      <th>32</th>\n",
              "      <td>25.0</td>\n",
              "      <td>98.0</td>\n",
              "      <td>2046</td>\n",
              "    </tr>\n",
              "    <tr>\n",
              "      <th>279</th>\n",
              "      <td>29.5</td>\n",
              "      <td>98.0</td>\n",
              "      <td>2135</td>\n",
              "    </tr>\n",
              "    <tr>\n",
              "      <th>178</th>\n",
              "      <td>23.0</td>\n",
              "      <td>120.0</td>\n",
              "      <td>2957</td>\n",
              "    </tr>\n",
              "    <tr>\n",
              "      <th>354</th>\n",
              "      <td>34.5</td>\n",
              "      <td>100.0</td>\n",
              "      <td>2320</td>\n",
              "    </tr>\n",
              "    <tr>\n",
              "      <th>...</th>\n",
              "      <td>...</td>\n",
              "      <td>...</td>\n",
              "      <td>...</td>\n",
              "    </tr>\n",
              "    <tr>\n",
              "      <th>298</th>\n",
              "      <td>23.0</td>\n",
              "      <td>350.0</td>\n",
              "      <td>3900</td>\n",
              "    </tr>\n",
              "    <tr>\n",
              "      <th>222</th>\n",
              "      <td>17.0</td>\n",
              "      <td>260.0</td>\n",
              "      <td>4060</td>\n",
              "    </tr>\n",
              "    <tr>\n",
              "      <th>65</th>\n",
              "      <td>14.0</td>\n",
              "      <td>351.0</td>\n",
              "      <td>4129</td>\n",
              "    </tr>\n",
              "    <tr>\n",
              "      <th>261</th>\n",
              "      <td>18.1</td>\n",
              "      <td>258.0</td>\n",
              "      <td>3410</td>\n",
              "    </tr>\n",
              "    <tr>\n",
              "      <th>342</th>\n",
              "      <td>30.0</td>\n",
              "      <td>135.0</td>\n",
              "      <td>2385</td>\n",
              "    </tr>\n",
              "  </tbody>\n",
              "</table>\n",
              "<p>80 rows × 3 columns</p>\n",
              "</div>\n",
              "      <button class=\"colab-df-convert\" onclick=\"convertToInteractive('df-66f3facb-22d4-4750-a9ee-37a3ad424951')\"\n",
              "              title=\"Convert this dataframe to an interactive table.\"\n",
              "              style=\"display:none;\">\n",
              "        \n",
              "  <svg xmlns=\"http://www.w3.org/2000/svg\" height=\"24px\"viewBox=\"0 0 24 24\"\n",
              "       width=\"24px\">\n",
              "    <path d=\"M0 0h24v24H0V0z\" fill=\"none\"/>\n",
              "    <path d=\"M18.56 5.44l.94 2.06.94-2.06 2.06-.94-2.06-.94-.94-2.06-.94 2.06-2.06.94zm-11 1L8.5 8.5l.94-2.06 2.06-.94-2.06-.94L8.5 2.5l-.94 2.06-2.06.94zm10 10l.94 2.06.94-2.06 2.06-.94-2.06-.94-.94-2.06-.94 2.06-2.06.94z\"/><path d=\"M17.41 7.96l-1.37-1.37c-.4-.4-.92-.59-1.43-.59-.52 0-1.04.2-1.43.59L10.3 9.45l-7.72 7.72c-.78.78-.78 2.05 0 2.83L4 21.41c.39.39.9.59 1.41.59.51 0 1.02-.2 1.41-.59l7.78-7.78 2.81-2.81c.8-.78.8-2.07 0-2.86zM5.41 20L4 18.59l7.72-7.72 1.47 1.35L5.41 20z\"/>\n",
              "  </svg>\n",
              "      </button>\n",
              "      \n",
              "  <style>\n",
              "    .colab-df-container {\n",
              "      display:flex;\n",
              "      flex-wrap:wrap;\n",
              "      gap: 12px;\n",
              "    }\n",
              "\n",
              "    .colab-df-convert {\n",
              "      background-color: #E8F0FE;\n",
              "      border: none;\n",
              "      border-radius: 50%;\n",
              "      cursor: pointer;\n",
              "      display: none;\n",
              "      fill: #1967D2;\n",
              "      height: 32px;\n",
              "      padding: 0 0 0 0;\n",
              "      width: 32px;\n",
              "    }\n",
              "\n",
              "    .colab-df-convert:hover {\n",
              "      background-color: #E2EBFA;\n",
              "      box-shadow: 0px 1px 2px rgba(60, 64, 67, 0.3), 0px 1px 3px 1px rgba(60, 64, 67, 0.15);\n",
              "      fill: #174EA6;\n",
              "    }\n",
              "\n",
              "    [theme=dark] .colab-df-convert {\n",
              "      background-color: #3B4455;\n",
              "      fill: #D2E3FC;\n",
              "    }\n",
              "\n",
              "    [theme=dark] .colab-df-convert:hover {\n",
              "      background-color: #434B5C;\n",
              "      box-shadow: 0px 1px 3px 1px rgba(0, 0, 0, 0.15);\n",
              "      filter: drop-shadow(0px 1px 2px rgba(0, 0, 0, 0.3));\n",
              "      fill: #FFFFFF;\n",
              "    }\n",
              "  </style>\n",
              "\n",
              "      <script>\n",
              "        const buttonEl =\n",
              "          document.querySelector('#df-66f3facb-22d4-4750-a9ee-37a3ad424951 button.colab-df-convert');\n",
              "        buttonEl.style.display =\n",
              "          google.colab.kernel.accessAllowed ? 'block' : 'none';\n",
              "\n",
              "        async function convertToInteractive(key) {\n",
              "          const element = document.querySelector('#df-66f3facb-22d4-4750-a9ee-37a3ad424951');\n",
              "          const dataTable =\n",
              "            await google.colab.kernel.invokeFunction('convertToInteractive',\n",
              "                                                     [key], {});\n",
              "          if (!dataTable) return;\n",
              "\n",
              "          const docLinkHtml = 'Like what you see? Visit the ' +\n",
              "            '<a target=\"_blank\" href=https://colab.research.google.com/notebooks/data_table.ipynb>data table notebook</a>'\n",
              "            + ' to learn more about interactive tables.';\n",
              "          element.innerHTML = '';\n",
              "          dataTable['output_type'] = 'display_data';\n",
              "          await google.colab.output.renderOutput(dataTable, element);\n",
              "          const docLink = document.createElement('div');\n",
              "          docLink.innerHTML = docLinkHtml;\n",
              "          element.appendChild(docLink);\n",
              "        }\n",
              "      </script>\n",
              "    </div>\n",
              "  </div>\n",
              "  "
            ]
          },
          "metadata": {},
          "execution_count": 11
        }
      ]
    },
    {
      "cell_type": "markdown",
      "source": [
        "Question 6: How many samples are in X_test?\n",
        "\n",
        "\n",
        "**Answer**: \n",
        "*X_test has 80 rows, thus the same number of samples are contained.*"
      ],
      "metadata": {
        "id": "3kxfwaVM2mMz"
      }
    },
    {
      "cell_type": "code",
      "source": [
        "# Create two pipelines:\n",
        "from sklearn.preprocessing import MinMaxScaler\n",
        "from sklearn.preprocessing import QuantileTransformer\n",
        "from sklearn.linear_model import LinearRegression\n",
        "from sklearn.pipeline import Pipeline\n",
        "\n",
        "# (1) preprocessing using Quantile Transformer (set number of quantiles to = 4)\n",
        "# and model using linear regression \n",
        "\n",
        "pipe_1 = Pipeline([\n",
        "    (\"scale\", QuantileTransformer(n_quantiles = 4)),\n",
        "    (\"model\", LinearRegression())\n",
        "])\n",
        "\n",
        "\n",
        "# (2) preprocessing using MinMaxScaler, and model using linear regression\n",
        "\n",
        "pipe_2 = Pipeline([\n",
        "    (\"scale\", MinMaxScaler()),\n",
        "    (\"model\", LinearRegression())\n",
        "])\n",
        "\n",
        "\n",
        "# After setting the pipelines, fit and predict the Pipeline the uses Quantile Trans \n",
        "# only using X_train and y_train\n",
        "\n",
        "pipe_1.fit(X_train, y_train)\n",
        "pred_1 = pipe_1.predict(X_train)\n",
        "print(pred_1)\n",
        "\n",
        "\n",
        "# Calcuate the mean_sqaured_error, all parameters are set to default\n",
        "\n",
        "from sklearn.metrics import mean_squared_error\n",
        "\n",
        "pipe_1_mse = mean_squared_error(y_train, pred_1) \n",
        "\n",
        "pipe_1_mse"
      ],
      "metadata": {
        "id": "stctlKD52o21",
        "outputId": "3ac17ffc-01e9-4022-a3e8-79ec859ac7ca",
        "colab": {
          "base_uri": "https://localhost:8080/"
        }
      },
      "execution_count": null,
      "outputs": [
        {
          "output_type": "stream",
          "name": "stdout",
          "text": [
            "[17.26323848 16.69063581 13.33628208 16.43704509 15.29492389 17.30146774\n",
            " 17.05664383 16.35558841 13.98914937 14.18169172 16.16946897 13.81361569\n",
            " 16.84565951 16.07332909 15.38871797 17.39116161 12.18219723  9.76308978\n",
            " 17.6910719  17.51861823 16.15473795 16.34051598 16.71013632 14.80263847\n",
            " 19.45913446 17.69752083 13.97257826 16.57831287 16.50203264 14.176569\n",
            " 15.49265362 17.41357996 16.85098456 14.15602541 16.75087375 15.37050968\n",
            " 13.33444769 15.92048231 15.8757757  12.14685043 14.81458353 14.67594946\n",
            " 16.99868841 15.11243622 17.11739455 13.55582474 16.14442894 16.23753668\n",
            " 16.85785035 17.3855502  16.90370438 13.97763896 15.1549396  16.7170634\n",
            " 17.10217034 17.16200576 14.71007298 14.72079    17.22361904 12.82968316\n",
            " 14.28086122 14.96193839 16.82877513 15.3463265  14.46832407 13.28349369\n",
            " 15.13386674 13.32626339 15.00199546 16.85927107 14.44641179 13.88592075\n",
            " 13.10549063 13.50237696 18.25469535 15.39443301 16.14874516 12.89613155\n",
            " 13.44684719 13.20277971 17.65109222 16.69821075 13.41297637 16.91895337\n",
            " 13.49189604 13.7110454  14.94231001 16.55460478 14.06526939 13.34874218\n",
            " 16.49048374 16.39095025 15.20636341 14.7483529  12.46634517 12.14003454\n",
            " 16.69074553 16.82964888 13.72174735 16.51022175 16.05746797 15.87727001\n",
            " 18.52064873 14.61362736 17.40897209 13.170646   14.12509646 16.17054659\n",
            " 18.20625879 13.77219053 16.71013632 17.57689253 13.69532428 16.67291917\n",
            " 14.46003328 15.7672018  13.75845947 15.40451777 14.12523213 13.4649962\n",
            " 16.79302462 17.12167971 15.1142265  16.59640049 15.8055393  14.1804283\n",
            " 14.55752122 14.40901984 14.45198296 14.19000211 14.87080571 15.86017009\n",
            " 14.77748163 12.62768382 14.53657995 16.15925306 16.95025053 16.71375891\n",
            " 13.47809523 13.51469775 16.21416313 16.95374352 17.9031776  15.99276824\n",
            " 16.64854178 17.43916173 15.86681387 17.35188052 17.17207248 13.51545779\n",
            " 18.29621021 13.30739485 15.60283861 13.12768326 13.9978521  16.57824785\n",
            " 14.01668997 17.14975045 12.48813291 14.48406167 15.42705809 12.9653536\n",
            " 19.41112761 16.48949143 14.94489175 17.42665299 14.31052587 13.70471506\n",
            " 14.06846429 17.23444735 17.05276808 14.31530046 15.81945602 14.00786959\n",
            " 17.45600403 16.67228978 16.63833114 15.10692435 14.14160717 16.57831287\n",
            " 14.39210694 15.09071057 15.00865944 18.35414041 12.79873206 12.23649352\n",
            " 17.6940119  16.75428718 16.12406082 14.99802819 16.02428488 16.81318785\n",
            " 16.91337068 16.33610608 15.50638811 16.99012016 17.44436416 14.94749404\n",
            " 16.77530986 17.03594617 16.96627948 15.54885194 16.80482691 14.35313163\n",
            " 15.21914877 14.8044447  16.57027632 16.31979673 14.52869824 13.0771583\n",
            " 13.7505089  15.78902625 13.62542732 13.59443666 14.12870581 17.46359477\n",
            " 13.92853541 17.02423112 14.70926741 15.72104119 16.29500456 16.90044293\n",
            " 16.84416595 14.79960799 17.29273097 15.84929933 16.76478909 13.70998028\n",
            " 13.62044012 15.92839729 16.11779923 15.55648945 16.81563602 13.8166524\n",
            " 14.6425801  16.61028304 13.00936263 15.8967996  16.78650903 14.15713496\n",
            " 15.19462087 14.73826409 17.34241531 17.40217626 16.43678529 15.55595317\n",
            " 13.52174844 18.67177704 17.78301852 14.30123873 14.96225158 14.74788546\n",
            " 17.01326718 14.5398339  14.68242235 16.91609418 14.20272997 13.95142746\n",
            " 13.55391137 12.74067904 16.80716933 15.02258766 17.05255046 14.05253706\n",
            " 16.29376289 17.87393445 16.08478125 15.72345054 14.49498694 16.20169273\n",
            " 14.95327512 17.58551833 16.73723192 16.64154071 15.76379164 15.35613986\n",
            " 16.70656801 17.24275215 15.48819064 15.75141625 12.95475012 17.26833869\n",
            " 16.63245106 16.52410486 16.53459911 14.14298447 17.77595877 16.33500374\n",
            " 16.38692796 16.48807677 12.36659578 13.61935701 18.31112847 17.92531431\n",
            " 15.21164403 15.28865323 15.98547886 17.30486963 16.94756764 16.72782735\n",
            " 13.10159101 12.46086102 17.24818605 13.44224174 16.7708192  14.27872298\n",
            " 13.27718568 16.97586271 12.87833135 14.46756492 14.72640055 18.04938334\n",
            " 13.935579   18.13583225 16.94940925 13.96886931 14.50827588 15.8594758 ]\n"
          ]
        },
        {
          "output_type": "execute_result",
          "data": {
            "text/plain": [
              "5.15784189309905"
            ]
          },
          "metadata": {},
          "execution_count": 38
        }
      ]
    },
    {
      "cell_type": "markdown",
      "source": [
        "Question 7: In pipeline 1 (Quantile Transfomer) what is the Mean Squared Error? \n",
        "\n",
        "\n",
        "\n",
        "**Answer**: \n",
        "*The MSE is 5,16 (5.15784189309905).*"
      ],
      "metadata": {
        "id": "08bnx-6r3Fnc"
      }
    },
    {
      "cell_type": "code",
      "source": [
        "# Fit and predict the Pipleine of MinMaxScaler\n",
        "# only using X_train and y_train\n",
        "pipe_2.fit(X_train, y_train)\n",
        "pred_2 = pipe_2.predict(X_train)\n",
        "print(pred_2)\n",
        "\n",
        "\n",
        "# Calcuate the mean_sqaured_error, all parameters are set to default\n",
        "\n",
        "from sklearn.metrics import mean_squared_error\n",
        "\n",
        "pipe_2_mse = mean_squared_error(y_train, pred_2) \n",
        "\n",
        "pipe_2_mse"
      ],
      "metadata": {
        "id": "YIgsYNfA3ISi",
        "outputId": "02f572c2-3588-48d4-d682-a481afe0deb9",
        "colab": {
          "base_uri": "https://localhost:8080/"
        }
      },
      "execution_count": null,
      "outputs": [
        {
          "output_type": "stream",
          "name": "stdout",
          "text": [
            "[16.83381142 16.61650567 12.91248878 16.65705338 15.41675383 17.25876641\n",
            " 16.86539999 16.79011028 13.73684478 14.13592602 16.694061   13.52345004\n",
            " 16.67309606 16.28798609 15.62339722 16.90060305 10.7613804   7.47436971\n",
            " 16.98966491 17.1193344  16.49462672 16.26755656 16.5666354  15.63178657\n",
            " 18.20560807 16.89029846 14.25451094 16.41645866 16.58523407 14.00760054\n",
            " 16.20476679 17.53115324 17.15852185 14.33305594 17.09312722 15.5875405\n",
            " 14.01471464 16.34860456 16.42139523 10.80403953 15.8616157  14.87366015\n",
            " 16.95259406 15.47090924 16.79702426 13.25639915 16.24182424 16.3746891\n",
            " 16.73817636 17.28445587 16.87817965 14.16530081 15.9206996  17.06991568\n",
            " 16.95093853 16.83737144 15.60076525 15.16528982 16.8682819  12.15354357\n",
            " 14.08952462 15.62458057 17.02777492 15.88688116 14.9512081  13.95850923\n",
            " 15.52550606 13.10948724 15.29508103 16.89183821 14.85964164 13.85698227\n",
            " 12.32364108 12.94426975 17.78058762 16.04508009 16.47550436 12.0994249\n",
            " 14.03668014 12.37116476 16.93388807 16.83409296 13.94548663 16.47718453\n",
            " 13.05766625 13.3181233  15.19374682 16.68019085 13.97024464 12.96387166\n",
            " 16.51676034 16.66376129 15.48667079 15.02404369 12.20747729 10.49362068\n",
            " 16.66527474 16.96061595 12.94713792 16.55013914 16.57371051 16.11993169\n",
            " 17.46705251 14.86640743 17.35630253 12.69983397 14.10037679 16.51510138\n",
            " 18.18473007 13.86007037 16.5666354  17.23593167 13.23591703 17.09927058\n",
            " 14.68705195 16.31763627 13.48513025 16.08509397 14.48082896 12.54838458\n",
            " 17.20705628 17.33112727 15.40141186 16.25209082 15.87570056 13.91729716\n",
            " 15.34966168 14.76011203 14.76000446 14.29331601 15.17455649 16.30437284\n",
            " 15.35111296 11.25967367 14.57883231 16.52668606 16.68817006 16.55933578\n",
            " 13.8348796  13.01648439 16.4953321  16.69018133 16.91071046 16.27979344\n",
            " 16.87148886 17.12627692 16.22501028 17.19970157 16.97413923 13.10873217\n",
            " 17.88119735 12.55752256 15.89671524 12.11476064 13.63048331 16.83787199\n",
            " 14.40885581 16.95197308 11.27086669 14.82333008 16.05448955 13.27564818\n",
            " 17.90258696 16.87958223 15.4313639  17.37453796 14.36445136 13.93265853\n",
            " 13.94307984 17.05029207 16.92515861 14.29454432 16.29349832 13.86141446\n",
            " 16.92439278 16.95431896 16.8463748  15.3263996  13.76215867 16.41645866\n",
            " 14.70597984 15.71813824 15.34932285 18.22728163 13.64694785 10.63103465\n",
            " 17.26385686 16.86822807 16.17819526 15.09353287 16.2676673  16.83163756\n",
            " 17.07452728 16.50551085 15.8237082  16.88021415 17.59375092 15.69581261\n",
            " 16.89321699 16.9940723  17.01227106 16.14694483 16.85116659 14.25607326\n",
            " 15.79928033 15.14930496 16.77397179 16.58639169 14.23119995 12.18492388\n",
            " 13.55392169 16.19116562 13.37407308 13.08501599 14.49257948 17.31944397\n",
            " 13.36648921 17.16675195 14.79735614 16.22320515 16.36737192 16.74202138\n",
            " 16.94351777 15.0036655  16.91988322 16.40834347 16.66886812 13.79646409\n",
            " 13.54562094 16.28608437 16.58115704 16.06192655 16.75546431 14.6004987\n",
            " 14.95704648 16.75348975 11.89098714 16.26160421 16.83398815 14.63940045\n",
            " 15.49876638 15.75863479 16.98664082 17.48836761 16.28635519 15.82365529\n",
            " 13.380879   18.03907647 17.0698124  14.37600184 15.30462115 15.29403155\n",
            " 17.13947427 14.81196148 15.12536231 17.31276876 14.76054861 13.53342134\n",
            " 12.98845027 12.00646429 16.66434631 15.49262298 16.78382958 14.24774037\n",
            " 16.40093505 17.37408501 16.21376167 16.0678386  14.64151833 16.44326628\n",
            " 15.83953727 17.6496856  16.59507206 16.84077361 16.15428589 16.02828254\n",
            " 16.71591089 16.82567383 16.20457249 16.22314803 12.36527193 17.92411558\n",
            " 16.68795782 16.73047609 16.49801343 14.31308051 17.49247792 16.42086127\n",
            " 16.5786696  16.44717459 13.32906222 13.2683606  17.89358808 17.1165947\n",
            " 15.36180122 15.84429689 16.09476542 16.79732695 16.75833941 16.55595464\n",
            " 12.02772094 11.84096327 16.81472441 12.75840297 17.05302632 14.31730177\n",
            " 12.85778509 16.88154718 11.77602147 14.94362134 15.20916431 17.73225784\n",
            " 13.9161193  17.75651759 16.83940106 13.94704815 14.95965177 16.28791404]\n"
          ]
        },
        {
          "output_type": "execute_result",
          "data": {
            "text/plain": [
              "4.777282662204088"
            ]
          },
          "metadata": {},
          "execution_count": 40
        }
      ]
    },
    {
      "cell_type": "markdown",
      "source": [
        "Question 8: In pipeline 2 (MinMaxSacler) what is Mean Squared Error? \n",
        "\n",
        "\n",
        "**Answer**: \n",
        "*The MSE is 4,78 (4.777282662204088).*"
      ],
      "metadata": {
        "id": "NhpUJQbf3VuA"
      }
    },
    {
      "cell_type": "code",
      "source": [
        "# Based on that results, use the best model and now predict X_test\n",
        "\n",
        "mm_results_test = pipe_2.fit(X_train, y_train).predict(X_test)\n",
        "\n",
        "mm_results_test\n",
        "\n",
        "# Calcuate the R2 metric, all parameters are set to default\n",
        "from sklearn.metrics import r2_score\n",
        "r2_score(y_test, mm_results_test)\n"
      ],
      "metadata": {
        "id": "RWd5aZew3azF",
        "outputId": "e33797dd-b771-414c-beaf-8d882306c6d3",
        "colab": {
          "base_uri": "https://localhost:8080/"
        }
      },
      "execution_count": null,
      "outputs": [
        {
          "output_type": "execute_result",
          "data": {
            "text/plain": [
              "0.27974679254989554"
            ]
          },
          "metadata": {},
          "execution_count": 55
        }
      ]
    },
    {
      "cell_type": "markdown",
      "source": [
        "Question 9: What is the value of the R2 when predicting X_test? (d.p. 2)\n",
        "\n",
        "\n",
        "**Answer**: \n",
        "*The R2 is 0,28 (0.27974679254989554).*"
      ],
      "metadata": {
        "id": "4MsIcHOp3kMU"
      }
    },
    {
      "cell_type": "markdown",
      "source": [
        "Question 10: How would you interpret the results of R2?\n",
        "\n",
        "\n",
        "**Answer**: \n",
        "*The value indicates that the model is rather weak as it explains only 28% of the variation.*"
      ],
      "metadata": {
        "id": "fgpA5zaC3mZr"
      }
    }
  ]
}